{
 "cells": [
  {
   "cell_type": "code",
   "execution_count": null,
   "metadata": {},
   "outputs": [],
   "source": [
    "import matplotlib.pyplot as plt\n",
    "import numpy as np\n",
    "import pandas as pd\n",
    "import io\n",
    "import seaborn as sns\n",
    "sns.set_style('darkgrid')\n",
    "\n",
    "FIGS_DIR = 'figures_rebuttal'\n",
    "\n",
    "import os\n",
    "os.makedirs(FIGS_DIR, exist_ok=True)"
   ]
  },
  {
   "cell_type": "code",
   "execution_count": null,
   "metadata": {},
   "outputs": [],
   "source": [
    "def plot_task_loss(df: pd.DataFrame, filename: str, optimal: float | tuple[float, float]):\n",
    "    fig, axs = plt.subplots(1, 3, figsize=(12, 3), sharey=True, tight_layout=True)\n",
    "    alphas = ['0.01', '0.05', '0.1', '0.2']\n",
    "    for shape, ax in zip(('box', 'ellipse', 'picnn'), axs):\n",
    "        for model in ['PTC', 'ETO', 'E2E']:\n",
    "            try:\n",
    "                means = df.loc[(model, shape, 'mean'), alphas].values\n",
    "                stds = df.loc[(model, shape, 'std'), alphas].values\n",
    "                ax.plot(range(4), means, label=model)\n",
    "                ax.fill_between(range(4), means-stds, means+stds, alpha=0.3)\n",
    "            except:\n",
    "                pass\n",
    "\n",
    "        if isinstance(optimal, (float, int)):\n",
    "            ax.plot((0, 3), (optimal, optimal), color='black', ls=':', label='optimal')\n",
    "        else:\n",
    "            mean, std = optimal\n",
    "            ax.plot((0, 3), (mean, mean), color='black', ls=':', label='optimal')\n",
    "            ax.fill_between((0, 3), mean - std, mean + std, color='black', alpha=0.3)\n",
    "        ax.set(xticks=range(4), xticklabels=alphas, xlabel='$\\\\alpha$', title=shape)\n",
    "        if shape == 'box':\n",
    "            ax.set(ylabel='task loss')\n",
    "        ax.legend()\n",
    "    fig.savefig(os.path.join(FIGS_DIR, f'{filename}.pdf'))\n",
    "    fig.savefig(os.path.join(FIGS_DIR, f'{filename}.png'))\n",
    "\n",
    "\n",
    "def plot_task_loss_regret(df: pd.DataFrame, filename: str, optimal: float):\n",
    "    fig, axs = plt.subplots(1, 3, figsize=(12, 3), sharey=True, tight_layout=True)\n",
    "    alphas = ['0.01', '0.05', '0.1', '0.2']\n",
    "    for shape, ax in zip(('box', 'ellipse', 'picnn'), axs):\n",
    "        for model in ['ETO', 'E2E']:\n",
    "            means = df.loc[(model, shape, 'mean'), alphas].values\n",
    "            mean_regret = means - optimal\n",
    "            stds = df.loc[(model, shape, 'std'), alphas].values\n",
    "            ax.plot(range(4), mean_regret, label=model)\n",
    "            ax.fill_between(range(4), mean_regret-stds, mean_regret+stds, alpha=0.3)\n",
    "\n",
    "        ax.set(xticks=range(4), xticklabels=alphas, xlabel='$\\\\alpha$', title=shape)\n",
    "        if shape == 'box':\n",
    "            ax.set(ylabel='regret')\n",
    "        ax.legend()\n",
    "    fig.savefig(os.path.join(FIGS_DIR, f'{filename}.pdf'))\n",
    "    fig.savefig(os.path.join(FIGS_DIR, f'{filename}.png'))\n",
    "\n",
    "\n",
    "def plot_coverage(df: pd.DataFrame, filename: str):\n",
    "    fig, axs = plt.subplots(1, 3, figsize=(12, 3), sharey=True, tight_layout=True)\n",
    "    alphas = ['0.01', '0.05', '0.1', '0.2']\n",
    "    for shape, ax in zip(('box', 'ellipse', 'picnn'), axs):\n",
    "        for model in ['ETO', 'E2E']:\n",
    "            means = df.loc[(model, shape, 'mean'), alphas].values\n",
    "            stds = df.loc[(model, shape, 'std'), alphas].values\n",
    "            ax.plot(range(4), means, label=model)\n",
    "            ax.fill_between(range(4), means-stds, means+stds, alpha=0.3)\n",
    "\n",
    "        ax.plot(range(4), [0.99, 0.95, 0.9, 0.8], ls=':', color='black')\n",
    "        ax.set(xticks=range(4), xticklabels=alphas, xlabel='$\\\\alpha$', title=shape)\n",
    "        if shape == 'box':\n",
    "            ax.set(ylabel='coverage')\n",
    "        ax.legend()\n",
    "    fig.savefig(os.path.join(FIGS_DIR, f'{filename}.pdf'))\n",
    "    fig.savefig(os.path.join(FIGS_DIR, f'{filename}.png'))"
   ]
  },
  {
   "cell_type": "markdown",
   "metadata": {},
   "source": [
    "## Storage dist-shift task loss"
   ]
  },
  {
   "cell_type": "code",
   "execution_count": null,
   "metadata": {},
   "outputs": [],
   "source": [
    "buf = io.StringIO(\n",
    "\"\"\"\n",
    "model,set,val,0.01,0.05,0.1,0.2\n",
    "ETO,box,mean,-15.92,-21.72,-23.17,-24.91\n",
    "ETO,box,std,5.83,0.93,0.49,0.58\n",
    "ETO,ellipse,mean,-4.96,-10.28,-13.14,-13.88\n",
    "ETO,ellipse,std,5.52,6.55,4.45,4.11\n",
    "ETO,picnn,mean,-6.766127,-11.066663,-12.151778,-12.950701\n",
    "ETO,picnn,std,3.075998,4.241612,4.582858,4.27471\n",
    "E2E,box,mean,-19.65,-25.20,-26.66,-28.28\n",
    "E2E,box,std,3.96,0.71,0.73,0.45\n",
    "E2E,ellipse,mean,-25.86,-27.89,-28.44,-29.57\n",
    "E2E,ellipse,std,1.76,2.36,2.69,2.44\n",
    "E2E,picnn,mean,-27.38,-29.24,-30.55,-30.82\n",
    "E2E,picnn,std,2.14,2.06,0.47,0.21\n",
    "\"\"\")\n",
    "df = pd.read_csv(buf).set_index(['model', 'set', 'val'])\n",
    "df"
   ]
  },
  {
   "cell_type": "code",
   "execution_count": null,
   "metadata": {},
   "outputs": [],
   "source": [
    "plot_task_loss(df, filename='storage_distshift_taskloss', optimal=-32.50498588)\n",
    "plot_task_loss_regret(df, filename='storage_distshift_taskloss_regret', optimal=-32.50498588)"
   ]
  },
  {
   "cell_type": "markdown",
   "metadata": {},
   "source": [
    "## Storage shuffle task loss"
   ]
  },
  {
   "cell_type": "code",
   "execution_count": null,
   "metadata": {},
   "outputs": [],
   "source": [
    "buf = io.StringIO(\n",
    "\"\"\"\n",
    "model,set,val,0.01,0.05,0.1,0.2\n",
    "ETO,box,mean,-23.265463,-31.387944,-33.879426,-36.033981\n",
    "ETO,box,std,4.498414,1.126827,0.814386,1.544385\n",
    "ETO,ellipse,mean,-3.494582,-11.506125,-16.05528,-18.866194\n",
    "ETO,ellipse,std,6.259748,7.78594,6.89673,2.460594\n",
    "ETO,picnn,mean,-10.69,-16.25,-18.33,-19.77\n",
    "ETO,picnn,std,3.349,3.806,3.699,3.432\n",
    "E2E,box,mean,-29.263166,-34.193874,-35.885113,-37.534615\n",
    "E2E,box,std,2.057311,0.84889,0.460965,1.256959\n",
    "E2E,ellipse,mean,-36.920064,-39.645235,-40.799097,-41.808987\n",
    "E2E,ellipse,std,2.081288,2.198075,2.427465,3.287589\n",
    "E2E,picnn,mean,-39.785395,-40.889996,-42.965304,-43.171177\n",
    "E2E,picnn,std,1.842494,3.473853,0.101937,0.100933\n",
    "\"\"\")\n",
    "df = pd.read_csv(buf).set_index(['model', 'set', 'val'])\n",
    "df"
   ]
  },
  {
   "cell_type": "code",
   "execution_count": null,
   "metadata": {},
   "outputs": [],
   "source": [
    "plot_task_loss(df, filename='storage_shuffle_taskloss', optimal=-45.4994702)\n",
    "plot_task_loss_regret(df, filename='storage_shuffle_taskloss_regret', optimal=-45.4994702)"
   ]
  },
  {
   "cell_type": "markdown",
   "metadata": {},
   "source": [
    "## Storage dist-shift coverage"
   ]
  },
  {
   "cell_type": "code",
   "execution_count": null,
   "metadata": {},
   "outputs": [],
   "source": [
    "buf = io.StringIO(\n",
    "\"\"\"\n",
    "model,set,val,0.01,0.05,0.1,0.2\n",
    "ETO,box,mean,0.997032,0.949315,0.869406,0.755479\n",
    "ETO,box,std,0.004175,0.033117,0.047353,0.048065\n",
    "ETO,ellipse,mean,0.990868,0.915297,0.791553,0.566667\n",
    "ETO,ellipse,std,0.012597,0.077435,0.072126,0.107604\n",
    "ETO,picnn,mean,0.98516,0.865297,0.763699,0.633333\n",
    "ETO,picnn,std,0.015936,0.122482,0.17486,0.195958\n",
    "E2E,box,mean,0.994521,0.924201,0.832648,0.705479\n",
    "E2E,box,std,0.00391,0.035919,0.032875,0.051267\n",
    "E2E,ellipse,mean,0.992009,0.878539,0.831735,0.586301\n",
    "E2E,ellipse,std,0.010936,0.052238,0.071513,0.069549\n",
    "E2E,picnn,mean,0.978082,0.893379,0.850228,0.689954\n",
    "E2E,picnn,std,0.027654,0.076635,0.061094,0.104074\n",
    "\"\"\")\n",
    "df = pd.read_csv(buf).set_index(['model', 'set', 'val'])\n",
    "df"
   ]
  },
  {
   "cell_type": "code",
   "execution_count": null,
   "metadata": {},
   "outputs": [],
   "source": [
    "plot_coverage(df, filename='storage_distshift_coverage')"
   ]
  },
  {
   "cell_type": "markdown",
   "metadata": {},
   "source": [
    "## Storage shuffle coverage"
   ]
  },
  {
   "cell_type": "code",
   "execution_count": null,
   "metadata": {},
   "outputs": [],
   "source": [
    "buf = io.StringIO(\n",
    "\"\"\"\n",
    "model,set,val,0.01,0.05,0.1,0.2\n",
    "ETO,box,mean,0.982877,0.940639,0.884018,0.776941\n",
    "ETO,box,std,0.008956,0.006088,0.014905,0.022782\n",
    "ETO,ellipse,mean,0.993151,0.945662,0.893836,0.780137\n",
    "ETO,ellipse,std,0.003044,0.014944,0.018865,0.02385\n",
    "ETO,picnn,mean,0.9879,0.9454,0.9018,0.8055\n",
    "ETO,picnn,std,0.007765,0.01598,0.01685,0.01913\n",
    "E2E,box,mean,0.984247,0.921005,0.867123,0.749315\n",
    "E2E,box,std,0.006408,0.014921,0.014551,0.025714\n",
    "E2E,ellipse,mean,0.993379,0.954566,0.894521,0.785616\n",
    "E2E,ellipse,std,0.003798,0.0152,0.024936,0.025547\n",
    "E2E,picnn,mean,0.9879,0.949543,0.874201,0.761872\n",
    "E2E,picnn,std,0.004698,0.010679,0.016409,0.023704\n",
    "\"\"\")\n",
    "df = pd.read_csv(buf).set_index(['model', 'set', 'val'])\n",
    "df"
   ]
  },
  {
   "cell_type": "code",
   "execution_count": null,
   "metadata": {},
   "outputs": [],
   "source": [
    "plot_coverage(df, filename='storage_shuffle_coverage')"
   ]
  },
  {
   "cell_type": "markdown",
   "metadata": {},
   "source": [
    "## Portfolio yfinance shuffle task loss"
   ]
  },
  {
   "cell_type": "code",
   "execution_count": null,
   "metadata": {},
   "outputs": [],
   "source": [
    "# buf = io.StringIO(\n",
    "# \"\"\"\n",
    "# model,set,val,0.01,0.05,0.1,0.2\n",
    "# ETO,box,mean,-0.04946,-0.06108,-0.05521,-0.057325\n",
    "# ETO,box,std,0.020881,0.022507,0.018944,0.024007\n",
    "# ETO,ellipse,mean,-0.064626,-0.064852,-0.06887,-0.067603\n",
    "# ETO,ellipse,std,0.045125,0.043056,0.043157,0.042858\n",
    "# ETO,picnn,mean,-0.073125,-0.06866,-0.065418,-0.06753\n",
    "# ETO,picnn,std,0.046295,0.053282,0.054001,0.050965\n",
    "# E2E,box,mean,-0.062346,-0.053712,-0.063648,-0.055014\n",
    "# E2E,box,std,0.02931,0.018339,0.02711,0.022662\n",
    "# E2E,ellipse,mean,-0.066138,-0.069482,-0.063411,-0.068482\n",
    "# E2E,ellipse,std,0.044425,0.04231,0.043687,0.046848\n",
    "# E2E,picnn,mean,-0.071764,-0.08011,-0.065267,-0.065352\n",
    "# E2E,picnn,std,0.047468,0.048644,0.057893,0.069772\n",
    "# \"\"\")\n",
    "# df = pd.read_csv(buf).set_index(['model', 'set', 'val'])\n",
    "# df"
   ]
  },
  {
   "cell_type": "code",
   "execution_count": null,
   "metadata": {},
   "outputs": [],
   "source": [
    "# plot_task_loss(df, filename='portfolio_yf_shuffle_taskloss', optimal=(-1.990903, 0.291741))\n",
    "# plot_task_loss_regret(df, filename='storage_distshift_taskloss_regret')"
   ]
  },
  {
   "cell_type": "code",
   "execution_count": null,
   "metadata": {},
   "outputs": [],
   "source": [
    "# buf = io.StringIO(\n",
    "# \"\"\"\n",
    "# model,set,val,0.01,0.05,0.1,0.2\n",
    "# ETO,box,mean,0.991042,0.952024,0.902256,0.819907\n",
    "# ETO,box,std,0.005085,0.018538,0.016281,0.021471\n",
    "# ETO,ellipse,mean,0.994024,0.957769,0.898406,0.799203\n",
    "# ETO,ellipse,std,0.005057,0.018611,0.030818,0.041113\n",
    "# ETO,picnn,mean,0.989641,0.952191,0.905976,0.797211\n",
    "# ETO,picnn,std,0.011908,0.019608,0.018611,0.035458\n",
    "# E2E,box,mean,0.994028,0.944061,0.905574,0.811015\n",
    "# E2E,box,std,0.002934,0.014052,0.014386,0.024606\n",
    "# E2E,ellipse,mean,0.991589,0.95259,0.904382,0.798805\n",
    "# E2E,ellipse,std,0.01117,0.025576,0.025476,0.042257\n",
    "# E2E,picnn,mean,0.991235,0.955677,0.904382,0.822045\n",
    "# E2E,picnn,std,0.00954,0.015124,0.016693,0.027983\n",
    "# \"\"\")\n",
    "# df = pd.read_csv(buf).set_index(['model', 'set', 'val'])\n",
    "# df"
   ]
  },
  {
   "cell_type": "code",
   "execution_count": null,
   "metadata": {},
   "outputs": [],
   "source": [
    "# plot_coverage(df, filename='portfolio_yf_shuffle_coverage')"
   ]
  },
  {
   "cell_type": "markdown",
   "metadata": {},
   "source": [
    "## Portfolio synthetic shuffle task loss"
   ]
  },
  {
   "cell_type": "code",
   "execution_count": null,
   "metadata": {},
   "outputs": [],
   "source": [
    "buf = io.StringIO(\n",
    "\"\"\"\n",
    "model,set,val,0.01,0.05,0.1,0.2\n",
    "PTC,box,mean,-0.957549,-1.158506,-1.228217,-1.263263\n",
    "PTC,box,std,0.397314,0.274708,0.16421,0.14432\n",
    "ETO,box,mean,-1.065612,-1.364037,-1.37,-1.42\n",
    "ETO,box,std,0.428045,0.117306,0.12,0.11\n",
    "ETO,ellipse,mean,-0.726304,-0.880926,-1.000976,-1.136266\n",
    "ETO,ellipse,std,0.098682,0.132046,0.15677,0.155277\n",
    "ETO,picnn,mean,-0.884407,-1.059457,-1.154048,-1.259902\n",
    "ETO,picnn,std,0.213987,0.168555,0.159744,0.11653\n",
    "E2E,box,mean,-1.299,-1.377,-1.403,-1.424\n",
    "E2E,box,std,0.173,0.1265,0.1026,0.1095\n",
    "E2E,ellipse,mean,-1.474,-1.482,-1.481,-1.484\n",
    "E2E,ellipse,std,0.1036,0.09973,0.09986,0.1045\n",
    "E2E,picnn,mean,-1.468,-1.466,-1.467,-1.472\n",
    "E2E,picnn,std,0.09566,0.09204,0.114,0.1017\n",
    "\"\"\")\n",
    "df = pd.read_csv(buf).set_index(['model', 'set', 'val'])\n",
    "df"
   ]
  },
  {
   "cell_type": "code",
   "execution_count": null,
   "metadata": {},
   "outputs": [],
   "source": [
    "plot_task_loss(df, filename='portfolio_syn_shuffle_taskloss_new', optimal=(-1.933641, 0.084673))\n",
    "# plot_task_loss_regret(df, filename='portfolio_syn_shuffle_taskloss_regret', optimal=-45.4994702)"
   ]
  },
  {
   "cell_type": "code",
   "execution_count": null,
   "metadata": {},
   "outputs": [],
   "source": [
    "buf = io.StringIO(\n",
    "\"\"\"\n",
    "model,set,val,0.01,0.05,0.1,0.2\n",
    "ETO,box,mean,0.9858,0.9458,0.898,0.7929\n",
    "ETO,box,std,0.006844,0.012917,0.017601,0.022462\n",
    "ETO,ellipse,mean,0.9863,0.9525,0.8978,0.7984\n",
    "ETO,ellipse,std,0.006865,0.00833,0.018552,0.021272\n",
    "ETO,picnn,mean,0.9911,0.953,0.9047,0.8071\n",
    "ETO,picnn,std,0.00599,0.013482,0.018968,0.017195\n",
    "E2E,box,mean,0.9876,0.9481,0.8965,0.7924\n",
    "E2E,box,std,0.006501,0.01005,0.0203,0.02656\n",
    "E2E,ellipse,mean,0.9921,0.9543,0.9072,0.7977\n",
    "E2E,ellipse,std,0.005547,0.01435,0.0228,0.03122\n",
    "E2E,picnn,mean,0.9906,0.9541,0.8957,0.805\n",
    "E2E,picnn,std,0.006415,0.01051,0.01347,0.02662\n",
    "\"\"\")\n",
    "df = pd.read_csv(buf).set_index(['model', 'set', 'val'])\n",
    "df"
   ]
  },
  {
   "cell_type": "code",
   "execution_count": null,
   "metadata": {},
   "outputs": [],
   "source": [
    "plot_coverage(df, filename='portfolio_syn_shuffle_coverage')"
   ]
  }
 ],
 "metadata": {
  "kernelspec": {
   "display_name": "dauq",
   "language": "python",
   "name": "python3"
  },
  "language_info": {
   "codemirror_mode": {
    "name": "ipython",
    "version": 3
   },
   "file_extension": ".py",
   "mimetype": "text/x-python",
   "name": "python",
   "nbconvert_exporter": "python",
   "pygments_lexer": "ipython3",
   "version": "3.12.4"
  }
 },
 "nbformat": 4,
 "nbformat_minor": 2
}
